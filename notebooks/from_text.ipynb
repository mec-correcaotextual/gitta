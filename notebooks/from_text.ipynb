{
 "cells": [
  {
   "cell_type": "code",
   "execution_count": 1,
   "metadata": {
    "collapsed": true
   },
   "outputs": [],
   "source": [
    "import random\n",
    "import grammar_induction\n",
    "random.seed(123)"
   ]
  },
  {
   "cell_type": "code",
   "execution_count": 2,
   "outputs": [
    {
     "name": "stdout",
     "output_type": "stream",
     "text": [
      "{\n",
      "    \"origin\": [\n",
      "        \"<G> the <B> is <F>\",\n",
      "        \"I like my <B> and my <B>\"\n",
      "    ],\n",
      "    \"B\": [\n",
      "        \"cat\",\n",
      "        \"chicken\",\n",
      "        \"dog\"\n",
      "    ],\n",
      "    \"G\": [\n",
      "        \"Alice\",\n",
      "        \"Bob\",\n",
      "        \"Cathy\"\n",
      "    ],\n",
      "    \"F\": [\n",
      "        \"jumping\",\n",
      "        \"walking\"\n",
      "    ]\n",
      "}\n"
     ]
    }
   ],
   "source": [
    "dataset = [\"I like my cat and my dog\", \n",
    "           \"I like my dog and my chicken\",\n",
    "           \"Alice the cat is jumping\",\n",
    "           \"Bob the dog is walking\",\n",
    "           \"Cathy the cat is walking\"]\n",
    "reconstructed_grammar = grammar_induction.induce_grammar_using_template_trees(\n",
    "    dataset, relative_similarity_threshold=0.1,\n",
    ")\n",
    "print(reconstructed_grammar.to_json())\n"
   ],
   "metadata": {
    "collapsed": false,
    "pycharm": {
     "name": "#%%\n"
    }
   }
  },
  {
   "cell_type": "code",
   "execution_count": 3,
   "outputs": [
    {
     "data": {
      "text/plain": "{\"Alice the cat is jumping\",\n \"Alice the cat is walking\",\n \"Alice the chicken is jumping\",\n \"Alice the chicken is walking\",\n \"Alice the dog is jumping\",\n \"Alice the dog is walking\",\n \"Bob the cat is jumping\",\n \"Bob the cat is walking\",\n \"Bob the chicken is jumping\",\n \"Bob the chicken is walking\",\n \"Bob the dog is jumping\",\n \"Bob the dog is walking\",\n \"Cathy the cat is jumping\",\n \"Cathy the cat is walking\",\n \"Cathy the chicken is jumping\",\n \"Cathy the chicken is walking\",\n \"Cathy the dog is jumping\",\n \"Cathy the dog is walking\",\n \"I like my cat and my cat\",\n \"I like my cat and my chicken\",\n \"I like my cat and my dog\",\n \"I like my chicken and my cat\",\n \"I like my chicken and my chicken\",\n \"I like my chicken and my dog\",\n \"I like my dog and my cat\",\n \"I like my dog and my chicken\",\n \"I like my dog and my dog\"}"
     },
     "execution_count": 3,
     "metadata": {},
     "output_type": "execute_result"
    }
   ],
   "source": [
    "all_generations = reconstructed_grammar.generate_all()\n",
    "all_generations"
   ],
   "metadata": {
    "collapsed": false,
    "pycharm": {
     "name": "#%%\n"
    }
   }
  }
 ],
 "metadata": {
  "kernelspec": {
   "display_name": "Python 3",
   "language": "python",
   "name": "python3"
  },
  "language_info": {
   "codemirror_mode": {
    "name": "ipython",
    "version": 2
   },
   "file_extension": ".py",
   "mimetype": "text/x-python",
   "name": "python",
   "nbconvert_exporter": "python",
   "pygments_lexer": "ipython2",
   "version": "2.7.6"
  }
 },
 "nbformat": 4,
 "nbformat_minor": 0
}