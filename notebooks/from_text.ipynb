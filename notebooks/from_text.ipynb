{
 "cells": [
  {
   "cell_type": "markdown",
   "source": [
    "# Inducing simple grammars from text using GITTA\n",
    "\n",
    "This notebook shows the power of [GITTA](https://github.com/twinters/gitta) *(Grammar Induction using a Template Tree Approach)*\n",
    "induce a template-driven generative grammar from textual examples"
   ],
   "metadata": {
    "collapsed": false
   }
  },
  {
   "cell_type": "code",
   "execution_count": 1,
   "metadata": {
    "collapsed": true
   },
   "outputs": [],
   "source": [
    "import random\n",
    "import grammar_induction\n",
    "random.seed(123)"
   ]
  },
  {
   "cell_type": "markdown",
   "source": [
    "## Creating a dataset\n",
    "Create a dataset of text for which you would like to induce a generative grammar.\n",
    "Then pass it to Gitta using the `induce_grammaR_using_template_trees` method.\n",
    "While the default values should already work, you can give some more hints to GITTA about your expected grammar using its parameters.\n",
    "The most important are:\n",
    "- `relative_similarity_threshold`: 0 = join slots if at least one value overlaps, 1 = never join slots unless their values 100% overlap.\n",
    "- `àllow_empty_string`: True if slots are allowed to map to empty strings, False if you want at least one token from every slot. Helpful to simply and easily correct resulting grammars.\n",
    "- `max_depth`: The maximum depth the internal template tree is allow to become at any point, thus also limiting how deep your grammar can be.\n",
    "- `use_best_merge_candidate`: Forces GITTA to work optimally, but lose some performance. Turning this boolean off can increase speed, but might result in slightly off grammars.\n",
    "- `prune_redudant`: Prunes nodes of the template tree if all their children are already covered by other sibling nodes. Turning this off might make the grammar have more paths to generate the same string."
   ],
   "metadata": {
    "collapsed": false,
    "pycharm": {
     "name": "#%% md\n"
    }
   }
  },
  {
   "cell_type": "code",
   "execution_count": 2,
   "outputs": [
    {
     "name": "stdout",
     "output_type": "stream",
     "text": [
      "{\n",
      "    \"origin\": [\n",
      "        \"<B> the <C> is <D>\",\n",
      "        \"I like my <C> and my <C>\"\n",
      "    ],\n",
      "    \"C\": [\n",
      "        \"cat\",\n",
      "        \"chicken\",\n",
      "        \"dog\"\n",
      "    ],\n",
      "    \"B\": [\n",
      "        \"Alice\",\n",
      "        \"Bob\",\n",
      "        \"Cathy\"\n",
      "    ],\n",
      "    \"D\": [\n",
      "        \"jumping\",\n",
      "        \"walking\"\n",
      "    ]\n",
      "}\n"
     ]
    }
   ],
   "source": [
    "dataset = [\"I like my cat and my dog\", \n",
    "           \"I like my dog and my chicken\",\n",
    "           \"Alice the cat is jumping\",\n",
    "           \"Bob the dog is walking\",\n",
    "           \"Cathy the cat is walking\"]\n",
    "reconstructed_grammar = grammar_induction.induce_grammar_using_template_trees(\n",
    "    dataset, relative_similarity_threshold=0.1,\n",
    ")\n",
    "print(reconstructed_grammar.to_json())\n"
   ],
   "metadata": {
    "collapsed": false,
    "pycharm": {
     "name": "#%%\n"
    }
   }
  },
  {
   "cell_type": "markdown",
   "source": [
    "## Generating more examples using the grammar\n",
    "Now that we have induced this grammar, we can check if it indeed generates more examples in the same line as our input\n",
    "by checking all possible generations.\n",
    "If you only want a limited number of generations, feel free to just use `generate()` instead."
   ],
   "metadata": {
    "collapsed": false,
    "pycharm": {
     "name": "#%% md\n"
    }
   }
  },
  {
   "cell_type": "code",
   "execution_count": 3,
   "outputs": [
    {
     "data": {
      "text/plain": "{\"Alice the cat is jumping\",\n \"Alice the cat is walking\",\n \"Alice the chicken is jumping\",\n \"Alice the chicken is walking\",\n \"Alice the dog is jumping\",\n \"Alice the dog is walking\",\n \"Bob the cat is jumping\",\n \"Bob the cat is walking\",\n \"Bob the chicken is jumping\",\n \"Bob the chicken is walking\",\n \"Bob the dog is jumping\",\n \"Bob the dog is walking\",\n \"Cathy the cat is jumping\",\n \"Cathy the cat is walking\",\n \"Cathy the chicken is jumping\",\n \"Cathy the chicken is walking\",\n \"Cathy the dog is jumping\",\n \"Cathy the dog is walking\",\n \"I like my cat and my cat\",\n \"I like my cat and my chicken\",\n \"I like my cat and my dog\",\n \"I like my chicken and my cat\",\n \"I like my chicken and my chicken\",\n \"I like my chicken and my dog\",\n \"I like my dog and my cat\",\n \"I like my dog and my chicken\",\n \"I like my dog and my dog\"}"
     },
     "execution_count": 3,
     "metadata": {},
     "output_type": "execute_result"
    }
   ],
   "source": [
    "all_generations = reconstructed_grammar.generate_all()\n",
    "all_generations"
   ],
   "metadata": {
    "collapsed": false,
    "pycharm": {
     "name": "#%%\n"
    }
   }
  },
  {
   "cell_type": "markdown",
   "source": [
    "## Exporting to other grammar frameworks\n",
    "\n",
    "GITTA can export its grammars to other popular frameworks, such as the default grammar arrow notation, or Tracery.\n",
    "If you need exports to other grammar frameworks, feel free raise [an issue](https://github.com/twinters/gitta/issues),\n",
    "or sending a pull request for the [grammar_exporter](https://github.com/twinters/gitta/blob/master/gitta/grammar_exporter.py) file."
   ],
   "metadata": {
    "collapsed": false,
    "pycharm": {
     "name": "#%% md\n"
    }
   }
  },
  {
   "cell_type": "code",
   "execution_count": 4,
   "outputs": [
    {
     "name": "stdout",
     "output_type": "stream",
     "text": [
      "Arrow notation:\n",
      "S -> #B# the #C# is #D# | I like my #C# and my #C#\n",
      "C -> cat | chicken | dog\n",
      "B -> Alice | Bob | Cathy\n",
      "D -> jumping | walking\n",
      "\n",
      "\n",
      "Tracery notation:\n",
      "{\n",
      "    \"origin\": [\n",
      "        \"#B# the #C# is #D#\",\n",
      "        \"I like my #C# and my #C#\"\n",
      "    ],\n",
      "    \"C\": [\n",
      "        \"cat\",\n",
      "        \"chicken\",\n",
      "        \"dog\"\n",
      "    ],\n",
      "    \"B\": [\n",
      "        \"Alice\",\n",
      "        \"Bob\",\n",
      "        \"Cathy\"\n",
      "    ],\n",
      "    \"D\": [\n",
      "        \"jumping\",\n",
      "        \"walking\"\n",
      "    ]\n",
      "}\n"
     ]
    }
   ],
   "source": [
    "from gitta import grammar_exporter\n",
    "\n",
    "print(\"Arrow notation:\")\n",
    "print(grammar_exporter.to_arrow_notation(reconstructed_grammar))\n",
    "print(\"\\n\")\n",
    "print(\"Tracery notation:\")\n",
    "print(grammar_exporter.to_tracery(reconstructed_grammar))"
   ],
   "metadata": {
    "collapsed": false,
    "pycharm": {
     "name": "#%%\n"
    }
   }
  }
 ],
 "metadata": {
  "kernelspec": {
   "display_name": "Python 3",
   "language": "python",
   "name": "python3"
  },
  "language_info": {
   "codemirror_mode": {
    "name": "ipython",
    "version": 2
   },
   "file_extension": ".py",
   "mimetype": "text/x-python",
   "name": "python",
   "nbconvert_exporter": "python",
   "pygments_lexer": "ipython2",
   "version": "2.7.6"
  }
 },
 "nbformat": 4,
 "nbformat_minor": 0
}